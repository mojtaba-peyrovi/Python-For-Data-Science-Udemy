{
 "cells": [
  {
   "cell_type": "code",
   "execution_count": 7,
   "metadata": {},
   "outputs": [],
   "source": [
    "import numpy as np\n",
    "import pandas as pd"
   ]
  },
  {
   "cell_type": "code",
   "execution_count": 9,
   "metadata": {},
   "outputs": [],
   "source": [
    "from numpy.random import randn"
   ]
  },
  {
   "cell_type": "code",
   "execution_count": 11,
   "metadata": {},
   "outputs": [
    {
     "data": {
      "text/plain": [
       "range(0, 10)"
      ]
     },
     "execution_count": 11,
     "metadata": {},
     "output_type": "execute_result"
    }
   ],
   "source": [
    "range(0,10)\n"
   ]
  },
  {
   "cell_type": "code",
   "execution_count": 29,
   "metadata": {},
   "outputs": [],
   "source": [
    "lst = ['A','B','C','D','E']"
   ]
  },
  {
   "cell_type": "code",
   "execution_count": 28,
   "metadata": {},
   "outputs": [
    {
     "data": {
      "text/plain": [
       "array([1, 2, 3, 4, 5])"
      ]
     },
     "execution_count": 28,
     "metadata": {},
     "output_type": "execute_result"
    }
   ],
   "source": [
    "arr"
   ]
  },
  {
   "cell_type": "code",
   "execution_count": null,
   "metadata": {},
   "outputs": [],
   "source": []
  },
  {
   "cell_type": "code",
   "execution_count": 32,
   "metadata": {},
   "outputs": [],
   "source": [
    "df = pd.DataFrame(randn(5,10),lst,['A','B','C','D','E','F','G','H','I','J'])"
   ]
  },
  {
   "cell_type": "code",
   "execution_count": 33,
   "metadata": {},
   "outputs": [
    {
     "data": {
      "text/html": [
       "<div>\n",
       "<table border=\"1\" class=\"dataframe\">\n",
       "  <thead>\n",
       "    <tr style=\"text-align: right;\">\n",
       "      <th></th>\n",
       "      <th>A</th>\n",
       "      <th>B</th>\n",
       "      <th>C</th>\n",
       "      <th>D</th>\n",
       "      <th>E</th>\n",
       "      <th>F</th>\n",
       "      <th>G</th>\n",
       "      <th>H</th>\n",
       "      <th>I</th>\n",
       "      <th>J</th>\n",
       "    </tr>\n",
       "  </thead>\n",
       "  <tbody>\n",
       "    <tr>\n",
       "      <th>A</th>\n",
       "      <td>0.450524</td>\n",
       "      <td>-1.003411</td>\n",
       "      <td>-0.872929</td>\n",
       "      <td>0.457351</td>\n",
       "      <td>1.122084</td>\n",
       "      <td>-1.118209</td>\n",
       "      <td>-0.409464</td>\n",
       "      <td>-1.304882</td>\n",
       "      <td>-0.289577</td>\n",
       "      <td>-0.373034</td>\n",
       "    </tr>\n",
       "    <tr>\n",
       "      <th>B</th>\n",
       "      <td>0.584686</td>\n",
       "      <td>0.170908</td>\n",
       "      <td>-1.759637</td>\n",
       "      <td>-1.381467</td>\n",
       "      <td>1.674612</td>\n",
       "      <td>0.374802</td>\n",
       "      <td>1.739926</td>\n",
       "      <td>0.959201</td>\n",
       "      <td>0.844961</td>\n",
       "      <td>0.224533</td>\n",
       "    </tr>\n",
       "    <tr>\n",
       "      <th>C</th>\n",
       "      <td>-0.340984</td>\n",
       "      <td>-0.496933</td>\n",
       "      <td>-1.081896</td>\n",
       "      <td>-0.935927</td>\n",
       "      <td>-2.137983</td>\n",
       "      <td>0.456043</td>\n",
       "      <td>-0.214093</td>\n",
       "      <td>-0.161692</td>\n",
       "      <td>0.636324</td>\n",
       "      <td>0.573896</td>\n",
       "    </tr>\n",
       "    <tr>\n",
       "      <th>D</th>\n",
       "      <td>0.097207</td>\n",
       "      <td>-1.490830</td>\n",
       "      <td>2.442457</td>\n",
       "      <td>0.847986</td>\n",
       "      <td>-1.007856</td>\n",
       "      <td>0.526070</td>\n",
       "      <td>-1.568264</td>\n",
       "      <td>-1.200057</td>\n",
       "      <td>1.157124</td>\n",
       "      <td>0.289672</td>\n",
       "    </tr>\n",
       "    <tr>\n",
       "      <th>E</th>\n",
       "      <td>1.127703</td>\n",
       "      <td>-0.038205</td>\n",
       "      <td>-1.032921</td>\n",
       "      <td>-0.545986</td>\n",
       "      <td>-1.092079</td>\n",
       "      <td>-0.941850</td>\n",
       "      <td>2.302604</td>\n",
       "      <td>-1.016910</td>\n",
       "      <td>2.032894</td>\n",
       "      <td>-1.483337</td>\n",
       "    </tr>\n",
       "  </tbody>\n",
       "</table>\n",
       "</div>"
      ],
      "text/plain": [
       "          A         B         C         D         E         F         G  \\\n",
       "A  0.450524 -1.003411 -0.872929  0.457351  1.122084 -1.118209 -0.409464   \n",
       "B  0.584686  0.170908 -1.759637 -1.381467  1.674612  0.374802  1.739926   \n",
       "C -0.340984 -0.496933 -1.081896 -0.935927 -2.137983  0.456043 -0.214093   \n",
       "D  0.097207 -1.490830  2.442457  0.847986 -1.007856  0.526070 -1.568264   \n",
       "E  1.127703 -0.038205 -1.032921 -0.545986 -1.092079 -0.941850  2.302604   \n",
       "\n",
       "          H         I         J  \n",
       "A -1.304882 -0.289577 -0.373034  \n",
       "B  0.959201  0.844961  0.224533  \n",
       "C -0.161692  0.636324  0.573896  \n",
       "D -1.200057  1.157124  0.289672  \n",
       "E -1.016910  2.032894 -1.483337  "
      ]
     },
     "execution_count": 33,
     "metadata": {},
     "output_type": "execute_result"
    }
   ],
   "source": [
    "df\n"
   ]
  },
  {
   "cell_type": "code",
   "execution_count": 40,
   "metadata": {},
   "outputs": [
    {
     "data": {
      "text/html": [
       "<div>\n",
       "<table border=\"1\" class=\"dataframe\">\n",
       "  <thead>\n",
       "    <tr style=\"text-align: right;\">\n",
       "      <th></th>\n",
       "      <th>A</th>\n",
       "      <th>B</th>\n",
       "      <th>C</th>\n",
       "      <th>D</th>\n",
       "      <th>E</th>\n",
       "      <th>F</th>\n",
       "      <th>G</th>\n",
       "      <th>H</th>\n",
       "      <th>I</th>\n",
       "      <th>J</th>\n",
       "    </tr>\n",
       "  </thead>\n",
       "  <tbody>\n",
       "    <tr>\n",
       "      <th>A</th>\n",
       "      <td>0.450524</td>\n",
       "      <td>-1.003411</td>\n",
       "      <td>-0.872929</td>\n",
       "      <td>0.457351</td>\n",
       "      <td>1.122084</td>\n",
       "      <td>-1.118209</td>\n",
       "      <td>-0.409464</td>\n",
       "      <td>-1.304882</td>\n",
       "      <td>-0.289577</td>\n",
       "      <td>-0.373034</td>\n",
       "    </tr>\n",
       "    <tr>\n",
       "      <th>C</th>\n",
       "      <td>-0.340984</td>\n",
       "      <td>-0.496933</td>\n",
       "      <td>-1.081896</td>\n",
       "      <td>-0.935927</td>\n",
       "      <td>-2.137983</td>\n",
       "      <td>0.456043</td>\n",
       "      <td>-0.214093</td>\n",
       "      <td>-0.161692</td>\n",
       "      <td>0.636324</td>\n",
       "      <td>0.573896</td>\n",
       "    </tr>\n",
       "    <tr>\n",
       "      <th>D</th>\n",
       "      <td>0.097207</td>\n",
       "      <td>-1.490830</td>\n",
       "      <td>2.442457</td>\n",
       "      <td>0.847986</td>\n",
       "      <td>-1.007856</td>\n",
       "      <td>0.526070</td>\n",
       "      <td>-1.568264</td>\n",
       "      <td>-1.200057</td>\n",
       "      <td>1.157124</td>\n",
       "      <td>0.289672</td>\n",
       "    </tr>\n",
       "  </tbody>\n",
       "</table>\n",
       "</div>"
      ],
      "text/plain": [
       "          A         B         C         D         E         F         G  \\\n",
       "A  0.450524 -1.003411 -0.872929  0.457351  1.122084 -1.118209 -0.409464   \n",
       "C -0.340984 -0.496933 -1.081896 -0.935927 -2.137983  0.456043 -0.214093   \n",
       "D  0.097207 -1.490830  2.442457  0.847986 -1.007856  0.526070 -1.568264   \n",
       "\n",
       "          H         I         J  \n",
       "A -1.304882 -0.289577 -0.373034  \n",
       "C -0.161692  0.636324  0.573896  \n",
       "D -1.200057  1.157124  0.289672  "
      ]
     },
     "execution_count": 40,
     "metadata": {},
     "output_type": "execute_result"
    }
   ],
   "source": [
    "df[df['G']<1]"
   ]
  },
  {
   "cell_type": "code",
   "execution_count": null,
   "metadata": {},
   "outputs": [],
   "source": [
    "df"
   ]
  }
 ],
 "metadata": {
  "kernelspec": {
   "display_name": "Python 3",
   "language": "python",
   "name": "python3"
  },
  "language_info": {
   "codemirror_mode": {
    "name": "ipython",
    "version": 3
   },
   "file_extension": ".py",
   "mimetype": "text/x-python",
   "name": "python",
   "nbconvert_exporter": "python",
   "pygments_lexer": "ipython3",
   "version": "3.6.4"
  }
 },
 "nbformat": 4,
 "nbformat_minor": 2
}
